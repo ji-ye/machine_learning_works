{
 "cells": [
  {
   "cell_type": "markdown",
   "metadata": {},
   "source": [
    "<h2>CAPP 30254: Machine Learning for Public Policy</h2>\n",
    "Assignment 2: Machine Learning Pipeline<br />\n",
    "Ye Ji <br />\n",
    "April 18, 2017 <br />\n",
    "______________________________________________\n",
    "\n",
    "### Goal:\n",
    "The goal of this assignment is to build a simple, modular, extensible, machine learning pipeline in Python. The pipeline should have functions that can do the following tasks:\n",
    "\n",
    "1. Read/Load Data\n",
    "2. Explore Data\n",
    "3. Pre-Process and Clean Data\n",
    "4. Generate Features/Predictors\n",
    "5. Build Machine Learning Classifier\n",
    "6. Evaluate Classifier\n",
    " <br />\n",
    "\n",
    "### Data:\n",
    "credit-data.csv\n",
    " <br />\n",
    "### Problem:\n",
    "The task here is to predict who will experience financial distress in the next two years. The outcome variable (label) in the data is SeriousDlqin2yrs. We have access to other information about this person (as described in the data dictionary). Your assignment is to take this data and build a machine learning pipeline that trains *one* machine learning model on the data.\n",
    " <br />\n",
    "### Summary:\n",
    "This notebook follows the six steps of the assignment. I wrote generalized functions to perform each task. The write-up part of the assignment is in Markdown cell like this one, and the code part is in code cell."
   ]
  },
  {
   "cell_type": "markdown",
   "metadata": {},
   "source": [
    "______________________________________________________________________________________________\n",
    "## 1. Read Data: \n",
    "I used to the read_csv from Pandas api to perform this task."
   ]
  },
  {
   "cell_type": "code",
   "execution_count": 3,
   "metadata": {
    "collapsed": true
   },
   "outputs": [],
   "source": [
    "import re\n",
    "import pandas as pd\n",
    "import matplotlib.pyplot as plt\n",
    "%matplotlib inline\n",
    "\n",
    "# 1.1 read and load data into Pandas DataFrame.\n",
    "def read_data(csv_filename):\n",
    "    '''\n",
    "    Reads csv file. Returns a DataFrame.\n",
    "    '''\n",
    "    df = pd.read_csv(csv_filename)\n",
    "    return df"
   ]
  },
  {
   "cell_type": "markdown",
   "metadata": {},
   "source": [
    "###### This concludes the Task 1 of 6."
   ]
  },
  {
   "cell_type": "markdown",
   "metadata": {},
   "source": [
    "_____________________________________________________________________________________________\n",
    "## 2. Data Exploration:\n",
    "My work for this task includes eyeballing the data with pandas functions such as describe, unique, etc. From which I developed an understanding for the distribution, median, mean, mode, max, min, ... for each of the columns."
   ]
  },
  {
   "cell_type": "code",
   "execution_count": 4,
   "metadata": {
    "collapsed": false,
    "scrolled": true
   },
   "outputs": [
    {
     "name": "stdout",
     "output_type": "stream",
     "text": [
      "<class 'pandas.core.frame.DataFrame'>\n",
      "RangeIndex: 150000 entries, 0 to 149999\n",
      "Data columns (total 13 columns):\n",
      "PersonID                                150000 non-null int64\n",
      "SeriousDlqin2yrs                        150000 non-null int64\n",
      "RevolvingUtilizationOfUnsecuredLines    150000 non-null float64\n",
      "age                                     150000 non-null int64\n",
      "zipcode                                 150000 non-null int64\n",
      "NumberOfTime30-59DaysPastDueNotWorse    150000 non-null int64\n",
      "DebtRatio                               150000 non-null float64\n",
      "MonthlyIncome                           120269 non-null float64\n",
      "NumberOfOpenCreditLinesAndLoans         150000 non-null int64\n",
      "NumberOfTimes90DaysLate                 150000 non-null int64\n",
      "NumberRealEstateLoansOrLines            150000 non-null int64\n",
      "NumberOfTime60-89DaysPastDueNotWorse    150000 non-null int64\n",
      "NumberOfDependents                      146076 non-null float64\n",
      "dtypes: float64(4), int64(9)\n",
      "memory usage: 14.9 MB\n"
     ]
    },
    {
     "name": "stderr",
     "output_type": "stream",
     "text": [
      "/Users/apple/anaconda/lib/python3.5/site-packages/numpy/lib/function_base.py:3834: RuntimeWarning: Invalid value encountered in percentile\n",
      "  RuntimeWarning)\n"
     ]
    },
    {
     "data": {
      "text/html": [
       "<div>\n",
       "<table border=\"1\" class=\"dataframe\">\n",
       "  <thead>\n",
       "    <tr style=\"text-align: right;\">\n",
       "      <th></th>\n",
       "      <th>PersonID</th>\n",
       "      <th>SeriousDlqin2yrs</th>\n",
       "      <th>RevolvingUtilizationOfUnsecuredLines</th>\n",
       "      <th>age</th>\n",
       "      <th>zipcode</th>\n",
       "      <th>NumberOfTime30-59DaysPastDueNotWorse</th>\n",
       "      <th>DebtRatio</th>\n",
       "      <th>MonthlyIncome</th>\n",
       "      <th>NumberOfOpenCreditLinesAndLoans</th>\n",
       "      <th>NumberOfTimes90DaysLate</th>\n",
       "      <th>NumberRealEstateLoansOrLines</th>\n",
       "      <th>NumberOfTime60-89DaysPastDueNotWorse</th>\n",
       "      <th>NumberOfDependents</th>\n",
       "    </tr>\n",
       "  </thead>\n",
       "  <tbody>\n",
       "    <tr>\n",
       "      <th>count</th>\n",
       "      <td>150000.000000</td>\n",
       "      <td>150000.000000</td>\n",
       "      <td>150000.000000</td>\n",
       "      <td>150000.000000</td>\n",
       "      <td>150000.000000</td>\n",
       "      <td>150000.000000</td>\n",
       "      <td>150000.000000</td>\n",
       "      <td>1.202690e+05</td>\n",
       "      <td>150000.000000</td>\n",
       "      <td>150000.000000</td>\n",
       "      <td>150000.000000</td>\n",
       "      <td>150000.000000</td>\n",
       "      <td>146076.000000</td>\n",
       "    </tr>\n",
       "    <tr>\n",
       "      <th>mean</th>\n",
       "      <td>75000.500000</td>\n",
       "      <td>0.066840</td>\n",
       "      <td>6.048438</td>\n",
       "      <td>52.295207</td>\n",
       "      <td>60648.810013</td>\n",
       "      <td>0.421033</td>\n",
       "      <td>353.005076</td>\n",
       "      <td>6.670221e+03</td>\n",
       "      <td>8.452760</td>\n",
       "      <td>0.265973</td>\n",
       "      <td>1.018240</td>\n",
       "      <td>0.240387</td>\n",
       "      <td>0.757222</td>\n",
       "    </tr>\n",
       "    <tr>\n",
       "      <th>std</th>\n",
       "      <td>43301.414527</td>\n",
       "      <td>0.249746</td>\n",
       "      <td>249.755371</td>\n",
       "      <td>14.771866</td>\n",
       "      <td>56.748197</td>\n",
       "      <td>4.192781</td>\n",
       "      <td>2037.818523</td>\n",
       "      <td>1.438467e+04</td>\n",
       "      <td>5.145951</td>\n",
       "      <td>4.169304</td>\n",
       "      <td>1.129771</td>\n",
       "      <td>4.155179</td>\n",
       "      <td>1.115086</td>\n",
       "    </tr>\n",
       "    <tr>\n",
       "      <th>min</th>\n",
       "      <td>1.000000</td>\n",
       "      <td>0.000000</td>\n",
       "      <td>0.000000</td>\n",
       "      <td>0.000000</td>\n",
       "      <td>60601.000000</td>\n",
       "      <td>0.000000</td>\n",
       "      <td>0.000000</td>\n",
       "      <td>0.000000e+00</td>\n",
       "      <td>0.000000</td>\n",
       "      <td>0.000000</td>\n",
       "      <td>0.000000</td>\n",
       "      <td>0.000000</td>\n",
       "      <td>0.000000</td>\n",
       "    </tr>\n",
       "    <tr>\n",
       "      <th>25%</th>\n",
       "      <td>37500.750000</td>\n",
       "      <td>0.000000</td>\n",
       "      <td>0.029867</td>\n",
       "      <td>41.000000</td>\n",
       "      <td>60625.000000</td>\n",
       "      <td>0.000000</td>\n",
       "      <td>0.175074</td>\n",
       "      <td>NaN</td>\n",
       "      <td>5.000000</td>\n",
       "      <td>0.000000</td>\n",
       "      <td>0.000000</td>\n",
       "      <td>0.000000</td>\n",
       "      <td>NaN</td>\n",
       "    </tr>\n",
       "    <tr>\n",
       "      <th>50%</th>\n",
       "      <td>75000.500000</td>\n",
       "      <td>0.000000</td>\n",
       "      <td>0.154181</td>\n",
       "      <td>52.000000</td>\n",
       "      <td>60629.000000</td>\n",
       "      <td>0.000000</td>\n",
       "      <td>0.366508</td>\n",
       "      <td>NaN</td>\n",
       "      <td>8.000000</td>\n",
       "      <td>0.000000</td>\n",
       "      <td>1.000000</td>\n",
       "      <td>0.000000</td>\n",
       "      <td>NaN</td>\n",
       "    </tr>\n",
       "    <tr>\n",
       "      <th>75%</th>\n",
       "      <td>112500.250000</td>\n",
       "      <td>0.000000</td>\n",
       "      <td>0.559046</td>\n",
       "      <td>63.000000</td>\n",
       "      <td>60644.000000</td>\n",
       "      <td>0.000000</td>\n",
       "      <td>0.868254</td>\n",
       "      <td>NaN</td>\n",
       "      <td>11.000000</td>\n",
       "      <td>0.000000</td>\n",
       "      <td>2.000000</td>\n",
       "      <td>0.000000</td>\n",
       "      <td>NaN</td>\n",
       "    </tr>\n",
       "    <tr>\n",
       "      <th>max</th>\n",
       "      <td>150000.000000</td>\n",
       "      <td>1.000000</td>\n",
       "      <td>50708.000000</td>\n",
       "      <td>109.000000</td>\n",
       "      <td>60804.000000</td>\n",
       "      <td>98.000000</td>\n",
       "      <td>329664.000000</td>\n",
       "      <td>3.008750e+06</td>\n",
       "      <td>58.000000</td>\n",
       "      <td>98.000000</td>\n",
       "      <td>54.000000</td>\n",
       "      <td>98.000000</td>\n",
       "      <td>20.000000</td>\n",
       "    </tr>\n",
       "  </tbody>\n",
       "</table>\n",
       "</div>"
      ],
      "text/plain": [
       "            PersonID  SeriousDlqin2yrs  RevolvingUtilizationOfUnsecuredLines  \\\n",
       "count  150000.000000     150000.000000                         150000.000000   \n",
       "mean    75000.500000          0.066840                              6.048438   \n",
       "std     43301.414527          0.249746                            249.755371   \n",
       "min         1.000000          0.000000                              0.000000   \n",
       "25%     37500.750000          0.000000                              0.029867   \n",
       "50%     75000.500000          0.000000                              0.154181   \n",
       "75%    112500.250000          0.000000                              0.559046   \n",
       "max    150000.000000          1.000000                          50708.000000   \n",
       "\n",
       "                 age        zipcode  NumberOfTime30-59DaysPastDueNotWorse  \\\n",
       "count  150000.000000  150000.000000                         150000.000000   \n",
       "mean       52.295207   60648.810013                              0.421033   \n",
       "std        14.771866      56.748197                              4.192781   \n",
       "min         0.000000   60601.000000                              0.000000   \n",
       "25%        41.000000   60625.000000                              0.000000   \n",
       "50%        52.000000   60629.000000                              0.000000   \n",
       "75%        63.000000   60644.000000                              0.000000   \n",
       "max       109.000000   60804.000000                             98.000000   \n",
       "\n",
       "           DebtRatio  MonthlyIncome  NumberOfOpenCreditLinesAndLoans  \\\n",
       "count  150000.000000   1.202690e+05                    150000.000000   \n",
       "mean      353.005076   6.670221e+03                         8.452760   \n",
       "std      2037.818523   1.438467e+04                         5.145951   \n",
       "min         0.000000   0.000000e+00                         0.000000   \n",
       "25%         0.175074            NaN                         5.000000   \n",
       "50%         0.366508            NaN                         8.000000   \n",
       "75%         0.868254            NaN                        11.000000   \n",
       "max    329664.000000   3.008750e+06                        58.000000   \n",
       "\n",
       "       NumberOfTimes90DaysLate  NumberRealEstateLoansOrLines  \\\n",
       "count            150000.000000                 150000.000000   \n",
       "mean                  0.265973                      1.018240   \n",
       "std                   4.169304                      1.129771   \n",
       "min                   0.000000                      0.000000   \n",
       "25%                   0.000000                      0.000000   \n",
       "50%                   0.000000                      1.000000   \n",
       "75%                   0.000000                      2.000000   \n",
       "max                  98.000000                     54.000000   \n",
       "\n",
       "       NumberOfTime60-89DaysPastDueNotWorse  NumberOfDependents  \n",
       "count                         150000.000000       146076.000000  \n",
       "mean                               0.240387            0.757222  \n",
       "std                                4.155179            1.115086  \n",
       "min                                0.000000            0.000000  \n",
       "25%                                0.000000                 NaN  \n",
       "50%                                0.000000                 NaN  \n",
       "75%                                0.000000                 NaN  \n",
       "max                               98.000000           20.000000  "
      ]
     },
     "execution_count": 4,
     "metadata": {},
     "output_type": "execute_result"
    }
   ],
   "source": [
    "df = read_data('credit-data.csv')\n",
    "df.info(verbose=True)\n",
    "df.describe()"
   ]
  },
  {
   "cell_type": "markdown",
   "metadata": {},
   "source": [
    "### 2.1 Average Age\n",
    "From the table above, we learnt that the mean age for this sample is **52.3**."
   ]
  },
  {
   "cell_type": "markdown",
   "metadata": {},
   "source": [
    "### 2.2 Median Income, debt ratio, and credit lines.\n",
    "For some data, median value is more representative than mean, so I wrote the following snippets to find out that for this sample group: <br\\>\n",
    "1. The median monthly income is **5400** dollars, which is above the national median income of 4801 dollars.\n",
    "2. The median debt ratio is 36.7%.\n",
    "3. The median number of credit lines and loans is eight.\n",
    "4. The mean average number of dependent is 0.76."
   ]
  },
  {
   "cell_type": "markdown",
   "metadata": {},
   "source": [
    "### 2.3 Demographic narrative:\n",
    "52.3 above 37.8, 5400 is above 4801."
   ]
  },
  {
   "cell_type": "code",
   "execution_count": 5,
   "metadata": {
    "collapsed": false
   },
   "outputs": [
    {
     "name": "stdout",
     "output_type": "stream",
     "text": [
      "Dataframe column names:\n",
      "Index(['PersonID', 'SeriousDlqin2yrs', 'RevolvingUtilizationOfUnsecuredLines',\n",
      "       'age', 'zipcode', 'NumberOfTime30-59DaysPastDueNotWorse', 'DebtRatio',\n",
      "       'MonthlyIncome', 'NumberOfOpenCreditLinesAndLoans',\n",
      "       'NumberOfTimes90DaysLate', 'NumberRealEstateLoansOrLines',\n",
      "       'NumberOfTime60-89DaysPastDueNotWorse', 'NumberOfDependents'],\n",
      "      dtype='object') \n",
      "\n",
      "For column PersonID\n",
      "  The unique values are:  \n",
      "\n",
      "   [     1      2      3 ..., 149998 149999 150000] \n",
      "\n",
      "            The mean is:  75000.5\n",
      "          The median is:  75000.5\n",
      "          The mode is:  Series([], dtype: int64)\n",
      "             The min is:  1\n",
      "             The max is:  150000\n",
      "               Got NaNs?  False \n",
      "\n",
      "For column SeriousDlqin2yrs\n",
      "  The unique values are:  \n",
      "\n",
      "   [1 0] \n",
      "\n",
      "            The mean is:  0.06684\n",
      "          The median is:  0.0\n",
      "          The mode is:  0    0\n",
      "dtype: int64\n",
      "             The min is:  0\n",
      "             The max is:  1\n",
      "               Got NaNs?  False \n",
      "\n",
      "For column RevolvingUtilizationOfUnsecuredLines\n",
      "  The unique values are:  \n",
      "\n",
      "   [ 0.76612661  0.95715102  0.65818014 ...,  0.29974515  0.24604392\n",
      "  0.85028295] \n",
      "\n",
      "            The mean is:  6.04843805466686\n",
      "          The median is:  0.154180737\n",
      "          The mode is:  0    0.0\n",
      "dtype: float64\n",
      "             The min is:  0.0\n",
      "             The max is:  50708.0\n",
      "               Got NaNs?  False \n",
      "\n",
      "For column age\n",
      "  The unique values are:  \n",
      "\n",
      "   [ 45  40  38  30  49  74  57  39  27  51  46  76  64  78  53  43  25  32\n",
      "  58  50  69  24  28  62  42  75  26  52  41  81  31  68  70  73  29  55\n",
      "  35  72  60  67  36  56  37  66  83  34  44  48  61  80  47  59  77  63\n",
      "  54  33  79  65  86  92  23  87  71  22  90  97  84  82  91  89  85  88\n",
      "  21  93  96  99  94  95 101  98 103 102 107 105   0 109] \n",
      "\n",
      "            The mean is:  52.295206666666665\n",
      "          The median is:  52.0\n",
      "          The mode is:  0    49\n",
      "dtype: int64\n",
      "             The min is:  0\n",
      "             The max is:  109\n",
      "               Got NaNs?  False \n",
      "\n",
      "For column zipcode\n",
      "  The unique values are:  \n",
      "\n",
      "   [60644 60637 60601 60625 60629 60804 60657 60618] \n",
      "\n",
      "            The mean is:  60648.810013333336\n",
      "          The median is:  60629.0\n",
      "          The mode is:  0    60625\n",
      "dtype: int64\n",
      "             The min is:  60601\n",
      "             The max is:  60804\n",
      "               Got NaNs?  False \n",
      "\n",
      "For column NumberOfTime30-59DaysPastDueNotWorse\n",
      "  The unique values are:  \n",
      "\n",
      "   [ 2  0  1  3  4  5  7 10  6 98 12  8  9 96 13 11] \n",
      "\n",
      "            The mean is:  0.4210333333333333\n",
      "          The median is:  0.0\n",
      "          The mode is:  0    0\n",
      "dtype: int64\n",
      "             The min is:  0\n",
      "             The max is:  98\n",
      "               Got NaNs?  False \n",
      "\n",
      "For column DebtRatio\n",
      "  The unique values are:  \n",
      "\n",
      "   [ 0.80298213  0.1218762   0.08511338 ...,  0.40429286  0.71656222\n",
      "  0.24990808] \n",
      "\n",
      "            The mean is:  353.0050757638672\n",
      "          The median is:  0.366507841\n",
      "          The mode is:  0    0.0\n",
      "dtype: float64\n",
      "             The min is:  0.0\n",
      "             The max is:  329664.0\n",
      "               Got NaNs?  False \n",
      "\n",
      "For column MonthlyIncome\n",
      "  The unique values are:  \n",
      "\n",
      "   [  9120.   2600.   3042. ...,  15648.    521.   7647.] \n",
      "\n",
      "            The mean is:  6670.221237392844\n",
      "          The median is:  5400.0\n",
      "          The mode is:  0    5000.0\n",
      "dtype: float64\n",
      "             The min is:  0.0\n",
      "             The max is:  3008750.0\n",
      "               Got NaNs?  True \n",
      "\n",
      "For column NumberOfOpenCreditLinesAndLoans\n",
      "  The unique values are:  \n",
      "\n",
      "   [13  4  2  5  7  3  8  9  6 10 14 22 17  1 15 31 12 21 11 19 18 26 20 23  0\n",
      " 16 27 29 28 24 25 32 46 33 30 34 37 38 36 35 54 43 45 49 57 48 40 58 51 52\n",
      " 39 41 56 42 47 50 44 53] \n",
      "\n",
      "            The mean is:  8.45276\n",
      "          The median is:  8.0\n",
      "          The mode is:  0    6\n",
      "dtype: int64\n",
      "             The min is:  0\n",
      "             The max is:  58\n",
      "               Got NaNs?  False \n",
      "\n",
      "For column NumberOfTimes90DaysLate\n",
      "  The unique values are:  \n",
      "\n",
      "   [ 0  1  3  2  5  4 98 10  9  6  7  8 15 96 11 13 14 17 12] \n",
      "\n",
      "            The mean is:  0.26597333333333334\n",
      "          The median is:  0.0\n",
      "          The mode is:  0    0\n",
      "dtype: int64\n",
      "             The min is:  0\n",
      "             The max is:  98\n",
      "               Got NaNs?  False \n",
      "\n",
      "For column NumberRealEstateLoansOrLines\n",
      "  The unique values are:  \n",
      "\n",
      "   [ 6  0  1  3  4  2  5  8  7  9 17 15 10 12 11 16 26 14 54 21 18 13 23 29 25\n",
      " 19 20 32] \n",
      "\n",
      "            The mean is:  1.01824\n",
      "          The median is:  1.0\n",
      "          The mode is:  0    0\n",
      "dtype: int64\n",
      "             The min is:  0\n",
      "             The max is:  54\n",
      "               Got NaNs?  False \n",
      "\n",
      "For column NumberOfTime60-89DaysPastDueNotWorse\n",
      "  The unique values are:  \n",
      "\n",
      "   [ 0  1  2  5  3 98  4  6  7  8 96 11  9] \n",
      "\n",
      "            The mean is:  0.24038666666666667\n",
      "          The median is:  0.0\n",
      "          The mode is:  0    0\n",
      "dtype: int64\n",
      "             The min is:  0\n",
      "             The max is:  98\n",
      "               Got NaNs?  False \n",
      "\n",
      "For column NumberOfDependents\n",
      "  The unique values are:  \n",
      "\n",
      "   [  2.   1.   0.  nan   3.   4.   5.   6.   8.   7.  20.  10.   9.  13.] \n",
      "\n",
      "            The mean is:  0.7572222678605657\n",
      "          The median is:  0.0\n",
      "          The mode is:  0    0.0\n",
      "dtype: float64\n",
      "             The min is:  0.0\n",
      "             The max is:  20.0\n",
      "               Got NaNs?  True \n",
      "\n"
     ]
    }
   ],
   "source": [
    "# pd.describe is enough but I like the following format.\n",
    "# The snippets below iterates through each columns's data to give me an idea of its range and distribution.\n",
    "print('Dataframe column names:')\n",
    "print(df.columns, '\\n')\n",
    "\n",
    "COL_NUM = range(len(df.columns))\n",
    "for i in COL_NUM:\n",
    "    print('For column', df.columns[i])\n",
    "    print('  The unique values are: ', '\\n')\n",
    "    print('  ', df[df.columns[i]].unique(), '\\n')\n",
    "    print('            The mean is: ', df[df.columns[i]].mean())\n",
    "    print('          The median is: ', df[df.columns[i]].median())\n",
    "    print('          The mode is: ', df[df.columns[i]].mode())\n",
    "    print('             The min is: ', df[df.columns[i]].min())\n",
    "    print('             The max is: ', df[df.columns[i]].max())\n",
    "    print('               Got NaNs? ', df[df.columns[i]].hasnans, '\\n')"
   ]
  },
  {
   "cell_type": "code",
   "execution_count": 6,
   "metadata": {
    "collapsed": false
   },
   "outputs": [
    {
     "data": {
      "text/plain": [
       "['person_id',\n",
       " 'serious_dlqin2yrs',\n",
       " 'revolving_utilization_of_unsecured_lines',\n",
       " 'age',\n",
       " 'zipcode',\n",
       " 'number_of_time30-59_days_past_due_not_worse',\n",
       " 'debt_ratio',\n",
       " 'monthly_income',\n",
       " 'number_of_open_credit_lines_and_loans',\n",
       " 'number_of_times90_days_late',\n",
       " 'number_real_estate_loans_or_lines',\n",
       " 'number_of_time60-89_days_past_due_not_worse',\n",
       " 'number_of_dependents']"
      ]
     },
     "execution_count": 6,
     "metadata": {},
     "output_type": "execute_result"
    }
   ],
   "source": [
    "# The function below is taken directly from DataGotham2013 notebook.\n",
    "# https://render.githubusercontent.com/view/ipynb?commit=44232591e7002c5df052e018081ee26d813afc29&enc_url=68747470733a2f2f7261772e67697468756275736572636f6e74656e742e636f6d2f796861742f44617461476f7468616d323031332f343432333235393165373030326335646630353265303138303831656532366438313361666332392f6e6f7465626f6f6b732f2e6970796e625f636865636b706f696e74732f312532302d253230496d706f7274696e67253230446174612d636865636b706f696e742e6970796e62&nwo=yhat%2FDataGotham2013&path=notebooks%2F.ipynb_checkpoints%2F1+-+Importing+Data-checkpoint.ipynb&repository_id=12772710#Basic-Cleanliness\n",
    "def camel_to_snake(column_name):\n",
    "    \"\"\"\n",
    "    converts a string that is camelCase into snake_case\n",
    "    Example:\n",
    "        print camel_to_snake(\"javaLovesCamelCase\")\n",
    "        > java_loves_camel_case\n",
    "    See Also:\n",
    "        http://stackoverflow.com/questions/1175208/elegant-python-function-to-convert-camelcase-to-camel-case\n",
    "    \"\"\"\n",
    "    s1 = re.sub('(.)([A-Z][a-z]+)', r'\\1_\\2', column_name)\n",
    "    return re.sub('([a-z0-9])([A-Z])', r'\\1_\\2', s1).lower()\n",
    "\n",
    "df.columns = [camel_to_snake(col) for col in df.columns]\n",
    "df.columns.tolist()"
   ]
  },
  {
   "cell_type": "markdown",
   "metadata": {},
   "source": [
    "### 2.3\n",
    "Visuals of age and credit line distribution"
   ]
  },
  {
   "cell_type": "code",
   "execution_count": 7,
   "metadata": {
    "collapsed": false,
    "scrolled": true
   },
   "outputs": [
    {
     "data": {
      "text/plain": [
       "<matplotlib.legend.Legend at 0x1043da1d0>"
      ]
     },
     "execution_count": 7,
     "metadata": {},
     "output_type": "execute_result"
    },
    {
     "data": {
      "image/png": "[encoded data removed]",
      "text/plain": [
       "<matplotlib.figure.Figure at 0x104342470>"
      ]
     },
     "metadata": {},
     "output_type": "display_data"
    }
   ],
   "source": [
    "fig, ax = plt.subplots()\n",
    "ax.spines['right'].set_visible(False)\n",
    "ax.spines['top'].set_visible(False)\n",
    "ax.spines['bottom'].set_color('0.25')\n",
    "ax.spines['left'].set_color('0.25')\n",
    "ax.xaxis.label.set_color('0.25')\n",
    "ax.tick_params(axis='x', colors='0.25')\n",
    "ax.tick_params(axis='y', colors='0.25')\n",
    "\n",
    "ax.xaxis.set_ticks_position('bottom')\n",
    "ax.yaxis.set_ticks_position('left')\n",
    "ax.yaxis.set_ticks_position('left')\n",
    "\n",
    "df.age.hist(bins=40, color='0.75', grid=False, linewidth=0.1)\n",
    "plt.title('Age Distribution')\n",
    "plt.xlabel('Age in years')\n",
    "plt.ylabel('Count')\n",
    "plt.axvline(df.age.mean(), color='#32749F', label='Avg: {}'.format(int(df.age.mean())), linestyle='dashed', linewidth=1)\n",
    "plt.legend()"
   ]
  },
  {
   "cell_type": "code",
   "execution_count": 8,
   "metadata": {
    "collapsed": false,
    "scrolled": true
   },
   "outputs": [
    {
     "data": {
      "text/plain": [
       "<matplotlib.legend.Legend at 0x104961d30>"
      ]
     },
     "execution_count": 8,
     "metadata": {},
     "output_type": "execute_result"
    },
    {
     "data": {
      "image/png": "[encoded data removed]",
      "text/plain": [
       "<matplotlib.figure.Figure at 0x1043e9f60>"
      ]
     },
     "metadata": {},
     "output_type": "display_data"
    }
   ],
   "source": [
    "fig, ax = plt.subplots()\n",
    "ax.spines['right'].set_visible(False)\n",
    "ax.spines['top'].set_visible(False)\n",
    "ax.spines['bottom'].set_color('0.25')\n",
    "ax.spines['left'].set_color('0.25')\n",
    "ax.xaxis.label.set_color('0.25')\n",
    "ax.tick_params(axis='x', colors='0.25')\n",
    "ax.tick_params(axis='y', colors='0.25')\n",
    "\n",
    "ax.xaxis.set_ticks_position('bottom')\n",
    "ax.yaxis.set_ticks_position('left')\n",
    "\n",
    "\n",
    "df.number_of_open_credit_lines_and_loans.hist(bins=60, color='0.75', grid=False, linewidth=0.1)\n",
    "plt.title('Credit lines and Loans')\n",
    "plt.xlabel('Number of open credit lines and loans', color='0.25')\n",
    "plt.ylabel('Count', color='0.25')\n",
    "plt.axvline(df.number_of_open_credit_lines_and_loans.mean(), label='Avg: {}'.format(int(df.number_of_open_credit_lines_and_loans.mean())), color='#32749F', linestyle='dashed', linewidth=1)\n",
    "plt.legend()"
   ]
  },
  {
   "cell_type": "markdown",
   "metadata": {},
   "source": [
    "###### This concludes the Task 2 of 6."
   ]
  },
  {
   "cell_type": "markdown",
   "metadata": {},
   "source": [
    "_____________________________________________________________________________________________\n",
    "## 3. Pre-Process Data:\n",
    "Without making any assumptions, I wrote a function to check for missing values and fill them with means.\n",
    "\n",
    "#### Note:\n",
    "A question I have is whether if we should detect and treat outliers although it is not specified in the assignment write up. Just from looking at the data, For example, an individual with age of zero, multiple dependents, and proper middle class income. There are slim chances this is the reality, but I wonder what the common practice for treating outlier is in machine learning pipeline."
   ]
  },
  {
   "cell_type": "code",
   "execution_count": 9,
   "metadata": {
    "collapsed": true
   },
   "outputs": [],
   "source": [
    "def fill_missing_by_mean(series):\n",
    "    '''\n",
    "    Check and fill missing values by mean in a pd.Series instance.\n",
    "    '''\n",
    "    if series.hasnans:\n",
    "        series.fillna(series.mean(), inplace=True)\n",
    "\n",
    "\n",
    "COL_NUM = range(len(df.columns))\n",
    "for i in COL_NUM:\n",
    "    if df[df.columns[i]].hasnans:\n",
    "        fill_missing_by_mean(df[df.columns[i]])\n"
   ]
  },
  {
   "cell_type": "code",
   "execution_count": 10,
   "metadata": {
    "collapsed": false
   },
   "outputs": [],
   "source": [
    "df.to_csv(\"credit-data-preprocessed.csv\", index=False)"
   ]
  },
  {
   "cell_type": "markdown",
   "metadata": {},
   "source": [
    "###### This concludes the Task 3 of 6."
   ]
  },
  {
   "cell_type": "markdown",
   "metadata": {},
   "source": [
    "_____________________________________________________________________________________________\n",
    "## 4. Generate Features/Predictors:\n",
    "    4.1 Write a function to discretize continuous variables.\n",
    "    4.2 Write a function to create binary variables from categoricals."
   ]
  },
  {
   "cell_type": "code",
   "execution_count": 11,
   "metadata": {
    "collapsed": true
   },
   "outputs": [],
   "source": [
    "import sklearn\n",
    "from sklearn.cross_validation import train_test_split\n",
    "from sklearn.neighbors import KNeighborsClassifier\n",
    "from sklearn.linear_model import LogisticRegression\n",
    "from sklearn.tree import DecisionTreeClassifier\n",
    "from sklearn import metrics\n",
    "from sklearn.metrics import (roc_curve, auc, classification_report, confusion_matrix)\n",
    "import pprint\n",
    "pp = pprint.PrettyPrinter(indent=2)"
   ]
  },
  {
   "cell_type": "code",
   "execution_count": 12,
   "metadata": {
    "collapsed": true
   },
   "outputs": [],
   "source": [
    "df = pd.read_csv('credit-data-preprocessed.csv')"
   ]
  },
  {
   "cell_type": "markdown",
   "metadata": {},
   "source": [
    "### 4.1\n",
    "Below is the function that discretize continuous variable."
   ]
  },
  {
   "cell_type": "code",
   "execution_count": 13,
   "metadata": {
    "collapsed": false
   },
   "outputs": [
    {
     "data": {
      "text/plain": [
       "0    37_to_54\n",
       "1    37_to_54\n",
       "2    37_to_54\n",
       "3    19_to_36\n",
       "4    37_to_54\n",
       "Name: age_group, dtype: category\n",
       "Categories (6, object): [18_and_under < 19_to_36 < 37_to_54 < 55_to_72 < 73_to_90 < 91_to_109]"
      ]
     },
     "execution_count": 13,
     "metadata": {},
     "output_type": "execute_result"
    }
   ],
   "source": [
    "def discretize_continuous_var(col_name, bins, group_names):\n",
    "    '''\n",
    "    Discretize continuous variables.\n",
    "    \n",
    "    Input:\n",
    "        col_name: DataFrame column name for the continuous variable.\n",
    "        bins: (int) number of bins\n",
    "        group_names: (list) of string of the discretize names.\n",
    "    \n",
    "    Return: None\n",
    "    '''\n",
    "    new_var_name = col_name + '_group'\n",
    "    df[new_var_name] = pd.cut(df[col_name], 6, labels=group_names)\n",
    "\n",
    "# Apply function to one of the variables.\n",
    "# Knowing the age ranges from 0 to 109, discretize into 6 bins, 18 years each.\n",
    "age_group_names = [\n",
    "    '18_and_under','19_to_36','37_to_54','55_to_72','73_to_90','91_to_109'\n",
    "]\n",
    "\n",
    "discretize_continuous_var('age', 6, age_group_names)\n",
    "\n",
    "# Now, the df have a new column for the discretized variable, shown below:\n",
    "df.age_group.head()"
   ]
  },
  {
   "cell_type": "markdown",
   "metadata": {},
   "source": [
    "### 4.1.1\n",
    "Check bin corner cases to see if they are in the right bin. They are."
   ]
  },
  {
   "cell_type": "code",
   "execution_count": 14,
   "metadata": {
    "collapsed": false
   },
   "outputs": [
    {
     "name": "stdout",
     "output_type": "stream",
     "text": [
      "Empty DataFrame\n",
      "Columns: [age, age_group]\n",
      "Index: [] \n",
      "\n",
      "        age age_group\n",
      "149409   36  19_to_36\n",
      "149429   36  19_to_36\n",
      "149479   36  19_to_36\n",
      "149834   36  19_to_36\n",
      "149944   36  19_to_36 \n",
      "\n",
      "        age age_group\n",
      "149782   54  37_to_54\n",
      "149822   54  37_to_54\n",
      "149841   54  37_to_54\n",
      "149864   54  37_to_54\n",
      "149872   54  37_to_54 \n",
      "\n",
      "        age age_group\n",
      "149562   72  55_to_72\n",
      "149572   72  55_to_72\n",
      "149742   72  55_to_72\n",
      "149786   72  55_to_72\n",
      "149844   72  55_to_72 \n",
      "\n",
      "        age age_group\n",
      "148405   90  73_to_90\n",
      "148663   90  73_to_90\n",
      "149489   90  73_to_90\n",
      "149651   90  73_to_90\n",
      "149818   90  73_to_90 \n",
      "\n",
      "        age  age_group\n",
      "105790  109  91_to_109\n",
      "138291  109  91_to_109 \n",
      "\n"
     ]
    }
   ],
   "source": [
    "BIN_CORNERS = [18, 36, 54, 72, 90, 109]\n",
    "for i in BIN_CORNERS:\n",
    "    print(df[['age','age_group']][df.age == i].tail(), '\\n')"
   ]
  },
  {
   "cell_type": "markdown",
   "metadata": {},
   "source": [
    "### 4.2\n",
    "Below is the function that create binary variable from categoricals."
   ]
  },
  {
   "cell_type": "code",
   "execution_count": 15,
   "metadata": {
    "collapsed": true
   },
   "outputs": [],
   "source": [
    "def create_categorical_var(series):\n",
    "    '''\n",
    "    Create binary dummy variables from categorical variables.\n",
    "    \n",
    "    Input:\n",
    "        series (Pandas Series)\n",
    "    \n",
    "    Return: DataFrame or Sparse DataFrame.\n",
    "    '''\n",
    "    return pd.get_dummies(series)"
   ]
  },
  {
   "cell_type": "markdown",
   "metadata": {},
   "source": [
    "#### Note:\n",
    "There is no categorical data in the datasets to apply this function. For demonstration purposes, I will create a new variables called ***CAMWABLETI***, short for \"Can Afford MsCAPP Without All Basic Life Expenses and Tax Index\". 1 represents the person's income is above MsCAPP's estimated annual tuition & expenses ($70,816); 0 represents not."
   ]
  },
  {
   "cell_type": "code",
   "execution_count": 16,
   "metadata": {
    "collapsed": false
   },
   "outputs": [
    {
     "data": {
      "text/plain": [
       "1    0.989107\n",
       "0    0.010893\n",
       "Name: CAMWABLETI, dtype: float64"
      ]
     },
     "execution_count": 16,
     "metadata": {},
     "output_type": "execute_result"
    }
   ],
   "source": [
    "MSCAPP_MONTHLY_COST = 70816 / 12\n",
    "df['CAMWABLETI'] = (df.monthly_income > 0).astype(int)\n",
    "df.CAMWABLETI.value_counts(1)"
   ]
  },
  {
   "cell_type": "markdown",
   "metadata": {},
   "source": [
    "### 4.2.1 Critical finding\n",
    "Voila! As it turns out, 98.9 percent of the common folks can afford grad school if they would\n",
    "just stop paying for food, shelter, and other life needs. Ugh.\n",
    "_______________________________________________________________________________________\n",
    "The CAMWABLETI in itself is a binary categorical. But for pure demonstration purposes, I am going to transform it into a binary once more using the create_categorical_var function."
   ]
  },
  {
   "cell_type": "code",
   "execution_count": 17,
   "metadata": {
    "collapsed": false
   },
   "outputs": [
    {
     "data": {
      "text/html": [
       "<div>\n",
       "<table border=\"1\" class=\"dataframe\">\n",
       "  <thead>\n",
       "    <tr style=\"text-align: right;\">\n",
       "      <th></th>\n",
       "      <th>0</th>\n",
       "      <th>1</th>\n",
       "    </tr>\n",
       "  </thead>\n",
       "  <tbody>\n",
       "    <tr>\n",
       "      <th>149995</th>\n",
       "      <td>0.0</td>\n",
       "      <td>1.0</td>\n",
       "    </tr>\n",
       "    <tr>\n",
       "      <th>149996</th>\n",
       "      <td>0.0</td>\n",
       "      <td>1.0</td>\n",
       "    </tr>\n",
       "    <tr>\n",
       "      <th>149997</th>\n",
       "      <td>0.0</td>\n",
       "      <td>1.0</td>\n",
       "    </tr>\n",
       "    <tr>\n",
       "      <th>149998</th>\n",
       "      <td>0.0</td>\n",
       "      <td>1.0</td>\n",
       "    </tr>\n",
       "    <tr>\n",
       "      <th>149999</th>\n",
       "      <td>0.0</td>\n",
       "      <td>1.0</td>\n",
       "    </tr>\n",
       "  </tbody>\n",
       "</table>\n",
       "</div>"
      ],
      "text/plain": [
       "          0    1\n",
       "149995  0.0  1.0\n",
       "149996  0.0  1.0\n",
       "149997  0.0  1.0\n",
       "149998  0.0  1.0\n",
       "149999  0.0  1.0"
      ]
     },
     "execution_count": 17,
     "metadata": {},
     "output_type": "execute_result"
    }
   ],
   "source": [
    "create_categorical_var(df.CAMWABLETI).tail()"
   ]
  },
  {
   "cell_type": "markdown",
   "metadata": {},
   "source": [
    "###### This concludes the Task 4 of 6."
   ]
  },
  {
   "cell_type": "markdown",
   "metadata": {},
   "source": [
    "_______________________________________________________________________________________________"
   ]
  },
  {
   "cell_type": "markdown",
   "metadata": {},
   "source": [
    "## 5 & 6. Build and Evaluate Classifier:\n",
    "I built K-NN and Logistic Regression classifiers for this task. For features, I selected revolving utilization of unsecured lines, age, debt ration, montly income, number of open credit liens and loans, and number of dependents. For evaluation metrics, I used accuracy, precision, and recall."
   ]
  },
  {
   "cell_type": "markdown",
   "metadata": {},
   "source": [
    "### 5. Build classifiers"
   ]
  },
  {
   "cell_type": "code",
   "execution_count": 18,
   "metadata": {
    "collapsed": true
   },
   "outputs": [],
   "source": [
    "classifiers = [KNeighborsClassifier(), LogisticRegression()]\n",
    "\n",
    "features = ['revolving_utilization_of_unsecured_lines', 'age', 'debt_ratio',\n",
    "            'monthly_income','number_of_open_credit_lines_and_loans', 'number_of_dependents']"
   ]
  },
  {
   "cell_type": "code",
   "execution_count": 19,
   "metadata": {
    "collapsed": false
   },
   "outputs": [
    {
     "data": {
      "text/plain": [
       "KNeighborsClassifier(algorithm='auto', leaf_size=30, metric='minkowski',\n",
       "           metric_params=None, n_jobs=1, n_neighbors=10, p=2,\n",
       "           weights='uniform')"
      ]
     },
     "execution_count": 19,
     "metadata": {},
     "output_type": "execute_result"
    }
   ],
   "source": [
    "clf = KNeighborsClassifier(n_neighbors=10)\n",
    "clf.fit(df[features], df.serious_dlqin2yrs)"
   ]
  },
  {
   "cell_type": "markdown",
   "metadata": {},
   "source": [
    "### 6. Evaluate classifiers"
   ]
  },
  {
   "cell_type": "code",
   "execution_count": 20,
   "metadata": {
    "collapsed": false
   },
   "outputs": [
    {
     "name": "stdout",
     "output_type": "stream",
     "text": [
      "('             precision    recall  f1-score   support\\n'\n",
      " '\\n'\n",
      " '          0       0.93      1.00      0.97    139974\\n'\n",
      " '          1       0.76      0.00      0.00     10026\\n'\n",
      " '\\n'\n",
      " 'avg / total       0.92      0.93      0.90    150000\\n')\n"
     ]
    }
   ],
   "source": [
    "pp.pprint(classification_report(df.serious_dlqin2yrs, clf.predict(df[features]), labels=[0, 1]))"
   ]
  },
  {
   "cell_type": "markdown",
   "metadata": {},
   "source": [
    "#### 6.1\n",
    "Precision is 0.92<br\\>\n",
    "Recall is 0.93<br\\>"
   ]
  },
  {
   "cell_type": "code",
   "execution_count": null,
   "metadata": {
    "collapsed": true
   },
   "outputs": [],
   "source": [
    "# Generalized pipeline evaluation function\n",
    "def eval_clf(df, x, y, classifiers, metrics, test_split=0.1):\n",
    "    '''\n",
    "    Split training and test datasets, then building classifiers(clf), then evaluate clf based\n",
    "    on metrics including accuracy, precision, and recall.\n",
    "    \n",
    "    Inputs:\n",
    "        df: DataFrame\n",
    "        x: (list) of feature strings.\n",
    "        y: (str) of outcome variable. In HW2, it is 'serious delinquency in 2 years'\n",
    "        classifiers: (list) of classifiers.\n",
    "        metrics: (list) of metrics. e.g. 'accuracy', 'recall', 'precision'.\n",
    "        test_split: percentage of the data used as test. Default is 10%\n",
    "    \n",
    "    Return:\n",
    "    '''\n",
    "    x_train, x_test, y_train, y_test  = train_test_split(df[x], df[y], test_size=test_split)\n",
    "    \n",
    "    for clf in classifiers:\n",
    "        clf.fit(x_train, y_train)\n",
    "        y_predicted = clf.predict(x_test)\n",
    "        rv_lst = []\n",
    "        if 'accuracy' in metrics:\n",
    "            accuracy = metrics.accuracy_score(y_test, y_predicted)\n",
    "            rv_lst.append(accuracy)\n",
    "        if 'recall' in metrics:\n",
    "            recall = metrics.recall_score(y_test, y_predicted)\n",
    "            rv_lst.append(recall)\n",
    "        if 'precision' in metrics:\n",
    "            precision = metrics.precision_score(y_test, y_predicted)\n",
    "            rv_lst.append(precision)\n",
    "        \n",
    "    return rv_lst"
   ]
  },
  {
   "cell_type": "markdown",
   "metadata": {},
   "source": [
    "### This concludes the assignment."
   ]
  }
 ],
 "metadata": {
  "anaconda-cloud": {},
  "kernelspec": {
   "display_name": "Python [conda root]",
   "language": "python",
   "name": "conda-root-py"
  },
  "language_info": {
   "codemirror_mode": {
    "name": "ipython",
    "version": 3
   },
   "file_extension": ".py",
   "mimetype": "text/x-python",
   "name": "python",
   "nbconvert_exporter": "python",
   "pygments_lexer": "ipython3",
   "version": "3.5.2"
  }
 },
 "nbformat": 4,
 "nbformat_minor": 2
}
